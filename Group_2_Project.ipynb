{
  "nbformat": 4,
  "nbformat_minor": 0,
  "metadata": {
    "colab": {
      "provenance": [],
      "include_colab_link": true
    },
    "kernelspec": {
      "name": "python3",
      "display_name": "Python 3"
    },
    "language_info": {
      "name": "python"
    }
  },
  "cells": [
    {
      "cell_type": "markdown",
      "metadata": {
        "id": "view-in-github",
        "colab_type": "text"
      },
      "source": [
        "<a href=\"https://colab.research.google.com/github/keith-keyah/Group_2_project/blob/main/Group_2_Project.ipynb\" target=\"_parent\"><img src=\"https://colab.research.google.com/assets/colab-badge.svg\" alt=\"Open In Colab\"/></a>"
      ]
    },
    {
      "cell_type": "markdown",
      "source": [
        "Objectives\n",
        "* Yield per region\n",
        "* Crop Type grown per region\n",
        "* Yield of the different crops per region\n",
        "* Correlation between population size and yield"
      ],
      "metadata": {
        "id": "0R4nrMKuDFk0"
      }
    },
    {
      "cell_type": "code",
      "source": [
        "# Import the necessary libraries\n",
        "import pandas as pd\n",
        "import numpy as np\n",
        "import matplotlib.pyplot as plt\n",
        "import seaborn as sns"
      ],
      "metadata": {
        "id": "ZDhBKkBLWxKL"
      },
      "execution_count": 119,
      "outputs": []
    },
    {
      "cell_type": "code",
      "source": [
        "# Loading the district_crop_yield DataSet\n",
        "district_crop_yield = pd.read_csv('/content/Uganda_Karamoja_District_Crop_Yield_Population.csv')\n",
        "district_crop_yield.head()\n"
      ],
      "metadata": {
        "colab": {
          "base_uri": "https://localhost:8080/",
          "height": 226
        },
        "id": "T-Xv57ScDXrk",
        "outputId": "5a1d16f9-0794-41cf-b57a-5680d0ba4011"
      },
      "execution_count": 120,
      "outputs": [
        {
          "output_type": "execute_result",
          "data": {
            "text/plain": [
              "   OBJECTID     NAME     POP        Area  S_Yield_Ha  M_Yield_Ha  \\\n",
              "0        92     ABIM   90385  2771977106         449        1040   \n",
              "1        96   AMUDAT  101790  1643582836         205        1297   \n",
              "2        20  KAABONG  627057  7373606003         279         945   \n",
              "3        85   KOTIDO  243157  3641539808         331        1148   \n",
              "4         5   MOROTO  127811  3570160948         128         355   \n",
              "\n",
              "   Crop_Area_Ha     S_Area_Ha    M_Area_Ha  S_Prod_Tot  M_Prod_Tot  \n",
              "0   5470.068394   3277.295971  1848.621855     1471506     1922567  \n",
              "1   5765.443719   2973.423860  2733.661014      609552     3545558  \n",
              "2  28121.672530  20544.194960  7394.416334     5731830     6987723  \n",
              "3  53032.649450  50247.443900  1751.372284    16631904     2010575  \n",
              "4   5954.814048   4741.748776  1190.050606      606944      422468  "
            ],
            "text/html": [
              "\n",
              "  <div id=\"df-d5173330-11c8-4a44-94ae-ab1f0682833b\" class=\"colab-df-container\">\n",
              "    <div>\n",
              "<style scoped>\n",
              "    .dataframe tbody tr th:only-of-type {\n",
              "        vertical-align: middle;\n",
              "    }\n",
              "\n",
              "    .dataframe tbody tr th {\n",
              "        vertical-align: top;\n",
              "    }\n",
              "\n",
              "    .dataframe thead th {\n",
              "        text-align: right;\n",
              "    }\n",
              "</style>\n",
              "<table border=\"1\" class=\"dataframe\">\n",
              "  <thead>\n",
              "    <tr style=\"text-align: right;\">\n",
              "      <th></th>\n",
              "      <th>OBJECTID</th>\n",
              "      <th>NAME</th>\n",
              "      <th>POP</th>\n",
              "      <th>Area</th>\n",
              "      <th>S_Yield_Ha</th>\n",
              "      <th>M_Yield_Ha</th>\n",
              "      <th>Crop_Area_Ha</th>\n",
              "      <th>S_Area_Ha</th>\n",
              "      <th>M_Area_Ha</th>\n",
              "      <th>S_Prod_Tot</th>\n",
              "      <th>M_Prod_Tot</th>\n",
              "    </tr>\n",
              "  </thead>\n",
              "  <tbody>\n",
              "    <tr>\n",
              "      <th>0</th>\n",
              "      <td>92</td>\n",
              "      <td>ABIM</td>\n",
              "      <td>90385</td>\n",
              "      <td>2771977106</td>\n",
              "      <td>449</td>\n",
              "      <td>1040</td>\n",
              "      <td>5470.068394</td>\n",
              "      <td>3277.295971</td>\n",
              "      <td>1848.621855</td>\n",
              "      <td>1471506</td>\n",
              "      <td>1922567</td>\n",
              "    </tr>\n",
              "    <tr>\n",
              "      <th>1</th>\n",
              "      <td>96</td>\n",
              "      <td>AMUDAT</td>\n",
              "      <td>101790</td>\n",
              "      <td>1643582836</td>\n",
              "      <td>205</td>\n",
              "      <td>1297</td>\n",
              "      <td>5765.443719</td>\n",
              "      <td>2973.423860</td>\n",
              "      <td>2733.661014</td>\n",
              "      <td>609552</td>\n",
              "      <td>3545558</td>\n",
              "    </tr>\n",
              "    <tr>\n",
              "      <th>2</th>\n",
              "      <td>20</td>\n",
              "      <td>KAABONG</td>\n",
              "      <td>627057</td>\n",
              "      <td>7373606003</td>\n",
              "      <td>279</td>\n",
              "      <td>945</td>\n",
              "      <td>28121.672530</td>\n",
              "      <td>20544.194960</td>\n",
              "      <td>7394.416334</td>\n",
              "      <td>5731830</td>\n",
              "      <td>6987723</td>\n",
              "    </tr>\n",
              "    <tr>\n",
              "      <th>3</th>\n",
              "      <td>85</td>\n",
              "      <td>KOTIDO</td>\n",
              "      <td>243157</td>\n",
              "      <td>3641539808</td>\n",
              "      <td>331</td>\n",
              "      <td>1148</td>\n",
              "      <td>53032.649450</td>\n",
              "      <td>50247.443900</td>\n",
              "      <td>1751.372284</td>\n",
              "      <td>16631904</td>\n",
              "      <td>2010575</td>\n",
              "    </tr>\n",
              "    <tr>\n",
              "      <th>4</th>\n",
              "      <td>5</td>\n",
              "      <td>MOROTO</td>\n",
              "      <td>127811</td>\n",
              "      <td>3570160948</td>\n",
              "      <td>128</td>\n",
              "      <td>355</td>\n",
              "      <td>5954.814048</td>\n",
              "      <td>4741.748776</td>\n",
              "      <td>1190.050606</td>\n",
              "      <td>606944</td>\n",
              "      <td>422468</td>\n",
              "    </tr>\n",
              "  </tbody>\n",
              "</table>\n",
              "</div>\n",
              "    <div class=\"colab-df-buttons\">\n",
              "\n",
              "  <div class=\"colab-df-container\">\n",
              "    <button class=\"colab-df-convert\" onclick=\"convertToInteractive('df-d5173330-11c8-4a44-94ae-ab1f0682833b')\"\n",
              "            title=\"Convert this dataframe to an interactive table.\"\n",
              "            style=\"display:none;\">\n",
              "\n",
              "  <svg xmlns=\"http://www.w3.org/2000/svg\" height=\"24px\" viewBox=\"0 -960 960 960\">\n",
              "    <path d=\"M120-120v-720h720v720H120Zm60-500h600v-160H180v160Zm220 220h160v-160H400v160Zm0 220h160v-160H400v160ZM180-400h160v-160H180v160Zm440 0h160v-160H620v160ZM180-180h160v-160H180v160Zm440 0h160v-160H620v160Z\"/>\n",
              "  </svg>\n",
              "    </button>\n",
              "\n",
              "  <style>\n",
              "    .colab-df-container {\n",
              "      display:flex;\n",
              "      gap: 12px;\n",
              "    }\n",
              "\n",
              "    .colab-df-convert {\n",
              "      background-color: #E8F0FE;\n",
              "      border: none;\n",
              "      border-radius: 50%;\n",
              "      cursor: pointer;\n",
              "      display: none;\n",
              "      fill: #1967D2;\n",
              "      height: 32px;\n",
              "      padding: 0 0 0 0;\n",
              "      width: 32px;\n",
              "    }\n",
              "\n",
              "    .colab-df-convert:hover {\n",
              "      background-color: #E2EBFA;\n",
              "      box-shadow: 0px 1px 2px rgba(60, 64, 67, 0.3), 0px 1px 3px 1px rgba(60, 64, 67, 0.15);\n",
              "      fill: #174EA6;\n",
              "    }\n",
              "\n",
              "    .colab-df-buttons div {\n",
              "      margin-bottom: 4px;\n",
              "    }\n",
              "\n",
              "    [theme=dark] .colab-df-convert {\n",
              "      background-color: #3B4455;\n",
              "      fill: #D2E3FC;\n",
              "    }\n",
              "\n",
              "    [theme=dark] .colab-df-convert:hover {\n",
              "      background-color: #434B5C;\n",
              "      box-shadow: 0px 1px 3px 1px rgba(0, 0, 0, 0.15);\n",
              "      filter: drop-shadow(0px 1px 2px rgba(0, 0, 0, 0.3));\n",
              "      fill: #FFFFFF;\n",
              "    }\n",
              "  </style>\n",
              "\n",
              "    <script>\n",
              "      const buttonEl =\n",
              "        document.querySelector('#df-d5173330-11c8-4a44-94ae-ab1f0682833b button.colab-df-convert');\n",
              "      buttonEl.style.display =\n",
              "        google.colab.kernel.accessAllowed ? 'block' : 'none';\n",
              "\n",
              "      async function convertToInteractive(key) {\n",
              "        const element = document.querySelector('#df-d5173330-11c8-4a44-94ae-ab1f0682833b');\n",
              "        const dataTable =\n",
              "          await google.colab.kernel.invokeFunction('convertToInteractive',\n",
              "                                                    [key], {});\n",
              "        if (!dataTable) return;\n",
              "\n",
              "        const docLinkHtml = 'Like what you see? Visit the ' +\n",
              "          '<a target=\"_blank\" href=https://colab.research.google.com/notebooks/data_table.ipynb>data table notebook</a>'\n",
              "          + ' to learn more about interactive tables.';\n",
              "        element.innerHTML = '';\n",
              "        dataTable['output_type'] = 'display_data';\n",
              "        await google.colab.output.renderOutput(dataTable, element);\n",
              "        const docLink = document.createElement('div');\n",
              "        docLink.innerHTML = docLinkHtml;\n",
              "        element.appendChild(docLink);\n",
              "      }\n",
              "    </script>\n",
              "  </div>\n",
              "\n",
              "\n",
              "    <div id=\"df-a02ef04b-d7e9-4eab-9d32-2e6545659c0c\">\n",
              "      <button class=\"colab-df-quickchart\" onclick=\"quickchart('df-a02ef04b-d7e9-4eab-9d32-2e6545659c0c')\"\n",
              "                title=\"Suggest charts\"\n",
              "                style=\"display:none;\">\n",
              "\n",
              "<svg xmlns=\"http://www.w3.org/2000/svg\" height=\"24px\"viewBox=\"0 0 24 24\"\n",
              "     width=\"24px\">\n",
              "    <g>\n",
              "        <path d=\"M19 3H5c-1.1 0-2 .9-2 2v14c0 1.1.9 2 2 2h14c1.1 0 2-.9 2-2V5c0-1.1-.9-2-2-2zM9 17H7v-7h2v7zm4 0h-2V7h2v10zm4 0h-2v-4h2v4z\"/>\n",
              "    </g>\n",
              "</svg>\n",
              "      </button>\n",
              "\n",
              "<style>\n",
              "  .colab-df-quickchart {\n",
              "      --bg-color: #E8F0FE;\n",
              "      --fill-color: #1967D2;\n",
              "      --hover-bg-color: #E2EBFA;\n",
              "      --hover-fill-color: #174EA6;\n",
              "      --disabled-fill-color: #AAA;\n",
              "      --disabled-bg-color: #DDD;\n",
              "  }\n",
              "\n",
              "  [theme=dark] .colab-df-quickchart {\n",
              "      --bg-color: #3B4455;\n",
              "      --fill-color: #D2E3FC;\n",
              "      --hover-bg-color: #434B5C;\n",
              "      --hover-fill-color: #FFFFFF;\n",
              "      --disabled-bg-color: #3B4455;\n",
              "      --disabled-fill-color: #666;\n",
              "  }\n",
              "\n",
              "  .colab-df-quickchart {\n",
              "    background-color: var(--bg-color);\n",
              "    border: none;\n",
              "    border-radius: 50%;\n",
              "    cursor: pointer;\n",
              "    display: none;\n",
              "    fill: var(--fill-color);\n",
              "    height: 32px;\n",
              "    padding: 0;\n",
              "    width: 32px;\n",
              "  }\n",
              "\n",
              "  .colab-df-quickchart:hover {\n",
              "    background-color: var(--hover-bg-color);\n",
              "    box-shadow: 0 1px 2px rgba(60, 64, 67, 0.3), 0 1px 3px 1px rgba(60, 64, 67, 0.15);\n",
              "    fill: var(--button-hover-fill-color);\n",
              "  }\n",
              "\n",
              "  .colab-df-quickchart-complete:disabled,\n",
              "  .colab-df-quickchart-complete:disabled:hover {\n",
              "    background-color: var(--disabled-bg-color);\n",
              "    fill: var(--disabled-fill-color);\n",
              "    box-shadow: none;\n",
              "  }\n",
              "\n",
              "  .colab-df-spinner {\n",
              "    border: 2px solid var(--fill-color);\n",
              "    border-color: transparent;\n",
              "    border-bottom-color: var(--fill-color);\n",
              "    animation:\n",
              "      spin 1s steps(1) infinite;\n",
              "  }\n",
              "\n",
              "  @keyframes spin {\n",
              "    0% {\n",
              "      border-color: transparent;\n",
              "      border-bottom-color: var(--fill-color);\n",
              "      border-left-color: var(--fill-color);\n",
              "    }\n",
              "    20% {\n",
              "      border-color: transparent;\n",
              "      border-left-color: var(--fill-color);\n",
              "      border-top-color: var(--fill-color);\n",
              "    }\n",
              "    30% {\n",
              "      border-color: transparent;\n",
              "      border-left-color: var(--fill-color);\n",
              "      border-top-color: var(--fill-color);\n",
              "      border-right-color: var(--fill-color);\n",
              "    }\n",
              "    40% {\n",
              "      border-color: transparent;\n",
              "      border-right-color: var(--fill-color);\n",
              "      border-top-color: var(--fill-color);\n",
              "    }\n",
              "    60% {\n",
              "      border-color: transparent;\n",
              "      border-right-color: var(--fill-color);\n",
              "    }\n",
              "    80% {\n",
              "      border-color: transparent;\n",
              "      border-right-color: var(--fill-color);\n",
              "      border-bottom-color: var(--fill-color);\n",
              "    }\n",
              "    90% {\n",
              "      border-color: transparent;\n",
              "      border-bottom-color: var(--fill-color);\n",
              "    }\n",
              "  }\n",
              "</style>\n",
              "\n",
              "      <script>\n",
              "        async function quickchart(key) {\n",
              "          const quickchartButtonEl =\n",
              "            document.querySelector('#' + key + ' button');\n",
              "          quickchartButtonEl.disabled = true;  // To prevent multiple clicks.\n",
              "          quickchartButtonEl.classList.add('colab-df-spinner');\n",
              "          try {\n",
              "            const charts = await google.colab.kernel.invokeFunction(\n",
              "                'suggestCharts', [key], {});\n",
              "          } catch (error) {\n",
              "            console.error('Error during call to suggestCharts:', error);\n",
              "          }\n",
              "          quickchartButtonEl.classList.remove('colab-df-spinner');\n",
              "          quickchartButtonEl.classList.add('colab-df-quickchart-complete');\n",
              "        }\n",
              "        (() => {\n",
              "          let quickchartButtonEl =\n",
              "            document.querySelector('#df-a02ef04b-d7e9-4eab-9d32-2e6545659c0c button');\n",
              "          quickchartButtonEl.style.display =\n",
              "            google.colab.kernel.accessAllowed ? 'block' : 'none';\n",
              "        })();\n",
              "      </script>\n",
              "    </div>\n",
              "\n",
              "    </div>\n",
              "  </div>\n"
            ],
            "application/vnd.google.colaboratory.intrinsic+json": {
              "type": "dataframe",
              "variable_name": "district_crop_yield",
              "summary": "{\n  \"name\": \"district_crop_yield\",\n  \"rows\": 7,\n  \"fields\": [\n    {\n      \"column\": \"OBJECTID\",\n      \"properties\": {\n        \"dtype\": \"number\",\n        \"std\": 36,\n        \"min\": 5,\n        \"max\": 96,\n        \"num_unique_values\": 7,\n        \"samples\": [\n          92,\n          96,\n          54\n        ],\n        \"semantic_type\": \"\",\n        \"description\": \"\"\n      }\n    },\n    {\n      \"column\": \"NAME\",\n      \"properties\": {\n        \"dtype\": \"string\",\n        \"num_unique_values\": 7,\n        \"samples\": [\n          \"ABIM\",\n          \"AMUDAT\",\n          \"NAKAPIRIPIRIT\"\n        ],\n        \"semantic_type\": \"\",\n        \"description\": \"\"\n      }\n    },\n    {\n      \"column\": \"POP\",\n      \"properties\": {\n        \"dtype\": \"number\",\n        \"std\": 188604,\n        \"min\": 90385,\n        \"max\": 627057,\n        \"num_unique_values\": 7,\n        \"samples\": [\n          90385,\n          101790,\n          146780\n        ],\n        \"semantic_type\": \"\",\n        \"description\": \"\"\n      }\n    },\n    {\n      \"column\": \"Area\",\n      \"properties\": {\n        \"dtype\": \"number\",\n        \"std\": 1781859644,\n        \"min\": 1643582836,\n        \"max\": 7373606003,\n        \"num_unique_values\": 7,\n        \"samples\": [\n          2771977106,\n          1643582836,\n          4216323900\n        ],\n        \"semantic_type\": \"\",\n        \"description\": \"\"\n      }\n    },\n    {\n      \"column\": \"S_Yield_Ha\",\n      \"properties\": {\n        \"dtype\": \"number\",\n        \"std\": 119,\n        \"min\": 128,\n        \"max\": 449,\n        \"num_unique_values\": 7,\n        \"samples\": [\n          449,\n          205,\n          356\n        ],\n        \"semantic_type\": \"\",\n        \"description\": \"\"\n      }\n    },\n    {\n      \"column\": \"M_Yield_Ha\",\n      \"properties\": {\n        \"dtype\": \"number\",\n        \"std\": 321,\n        \"min\": 355,\n        \"max\": 1297,\n        \"num_unique_values\": 7,\n        \"samples\": [\n          1040,\n          1297,\n          1264\n        ],\n        \"semantic_type\": \"\",\n        \"description\": \"\"\n      }\n    },\n    {\n      \"column\": \"Crop_Area_Ha\",\n      \"properties\": {\n        \"dtype\": \"number\",\n        \"std\": 17363.854165436525,\n        \"min\": 5470.068394,\n        \"max\": 53032.64945,\n        \"num_unique_values\": 7,\n        \"samples\": [\n          5470.068394,\n          5765.443719,\n          26372.69849\n        ],\n        \"semantic_type\": \"\",\n        \"description\": \"\"\n      }\n    },\n    {\n      \"column\": \"S_Area_Ha\",\n      \"properties\": {\n        \"dtype\": \"number\",\n        \"std\": 16625.963460313287,\n        \"min\": 2973.42386,\n        \"max\": 50247.4439,\n        \"num_unique_values\": 7,\n        \"samples\": [\n          3277.295971,\n          2973.42386,\n          19237.33321\n        ],\n        \"semantic_type\": \"\",\n        \"description\": \"\"\n      }\n    },\n    {\n      \"column\": \"M_Area_Ha\",\n      \"properties\": {\n        \"dtype\": \"number\",\n        \"std\": 2678.911440732962,\n        \"min\": 1190.050606,\n        \"max\": 7394.416334,\n        \"num_unique_values\": 7,\n        \"samples\": [\n          1848.621855,\n          2733.661014,\n          6425.788414\n        ],\n        \"semantic_type\": \"\",\n        \"description\": \"\"\n      }\n    },\n    {\n      \"column\": \"S_Prod_Tot\",\n      \"properties\": {\n        \"dtype\": \"number\",\n        \"std\": 5743723,\n        \"min\": 606944,\n        \"max\": 16631904,\n        \"num_unique_values\": 7,\n        \"samples\": [\n          1471506,\n          609552,\n          6848491\n        ],\n        \"semantic_type\": \"\",\n        \"description\": \"\"\n      }\n    },\n    {\n      \"column\": \"M_Prod_Tot\",\n      \"properties\": {\n        \"dtype\": \"number\",\n        \"std\": 2877188,\n        \"min\": 422468,\n        \"max\": 8122197,\n        \"num_unique_values\": 7,\n        \"samples\": [\n          1922567,\n          3545558,\n          8122197\n        ],\n        \"semantic_type\": \"\",\n        \"description\": \"\"\n      }\n    }\n  ]\n}"
            }
          },
          "metadata": {},
          "execution_count": 120
        }
      ]
    },
    {
      "cell_type": "code",
      "source": [
        "# summary information for the district_crop_yield DataSet\n",
        "district_crop_yield.info()"
      ],
      "metadata": {
        "id": "9VqK0KVeGpFG",
        "colab": {
          "base_uri": "https://localhost:8080/"
        },
        "outputId": "1fecee10-5cb1-4f73-d3ed-314481790468"
      },
      "execution_count": 121,
      "outputs": [
        {
          "output_type": "stream",
          "name": "stdout",
          "text": [
            "<class 'pandas.core.frame.DataFrame'>\n",
            "RangeIndex: 7 entries, 0 to 6\n",
            "Data columns (total 11 columns):\n",
            " #   Column        Non-Null Count  Dtype  \n",
            "---  ------        --------------  -----  \n",
            " 0   OBJECTID      7 non-null      int64  \n",
            " 1   NAME          7 non-null      object \n",
            " 2   POP           7 non-null      int64  \n",
            " 3   Area          7 non-null      int64  \n",
            " 4   S_Yield_Ha    7 non-null      int64  \n",
            " 5   M_Yield_Ha    7 non-null      int64  \n",
            " 6   Crop_Area_Ha  7 non-null      float64\n",
            " 7   S_Area_Ha     7 non-null      float64\n",
            " 8   M_Area_Ha     7 non-null      float64\n",
            " 9   S_Prod_Tot    7 non-null      int64  \n",
            " 10  M_Prod_Tot    7 non-null      int64  \n",
            "dtypes: float64(3), int64(7), object(1)\n",
            "memory usage: 748.0+ bytes\n"
          ]
        }
      ]
    },
    {
      "cell_type": "code",
      "source": [
        "# Checking for null values\n",
        "district_crop_yield.isna().sum()"
      ],
      "metadata": {
        "id": "LccPkN55GwWv",
        "colab": {
          "base_uri": "https://localhost:8080/",
          "height": 429
        },
        "outputId": "aec3802d-8b52-4d93-b4b6-b2a4613538b4"
      },
      "execution_count": 122,
      "outputs": [
        {
          "output_type": "execute_result",
          "data": {
            "text/plain": [
              "OBJECTID        0\n",
              "NAME            0\n",
              "POP             0\n",
              "Area            0\n",
              "S_Yield_Ha      0\n",
              "M_Yield_Ha      0\n",
              "Crop_Area_Ha    0\n",
              "S_Area_Ha       0\n",
              "M_Area_Ha       0\n",
              "S_Prod_Tot      0\n",
              "M_Prod_Tot      0\n",
              "dtype: int64"
            ],
            "text/html": [
              "<div>\n",
              "<style scoped>\n",
              "    .dataframe tbody tr th:only-of-type {\n",
              "        vertical-align: middle;\n",
              "    }\n",
              "\n",
              "    .dataframe tbody tr th {\n",
              "        vertical-align: top;\n",
              "    }\n",
              "\n",
              "    .dataframe thead th {\n",
              "        text-align: right;\n",
              "    }\n",
              "</style>\n",
              "<table border=\"1\" class=\"dataframe\">\n",
              "  <thead>\n",
              "    <tr style=\"text-align: right;\">\n",
              "      <th></th>\n",
              "      <th>0</th>\n",
              "    </tr>\n",
              "  </thead>\n",
              "  <tbody>\n",
              "    <tr>\n",
              "      <th>OBJECTID</th>\n",
              "      <td>0</td>\n",
              "    </tr>\n",
              "    <tr>\n",
              "      <th>NAME</th>\n",
              "      <td>0</td>\n",
              "    </tr>\n",
              "    <tr>\n",
              "      <th>POP</th>\n",
              "      <td>0</td>\n",
              "    </tr>\n",
              "    <tr>\n",
              "      <th>Area</th>\n",
              "      <td>0</td>\n",
              "    </tr>\n",
              "    <tr>\n",
              "      <th>S_Yield_Ha</th>\n",
              "      <td>0</td>\n",
              "    </tr>\n",
              "    <tr>\n",
              "      <th>M_Yield_Ha</th>\n",
              "      <td>0</td>\n",
              "    </tr>\n",
              "    <tr>\n",
              "      <th>Crop_Area_Ha</th>\n",
              "      <td>0</td>\n",
              "    </tr>\n",
              "    <tr>\n",
              "      <th>S_Area_Ha</th>\n",
              "      <td>0</td>\n",
              "    </tr>\n",
              "    <tr>\n",
              "      <th>M_Area_Ha</th>\n",
              "      <td>0</td>\n",
              "    </tr>\n",
              "    <tr>\n",
              "      <th>S_Prod_Tot</th>\n",
              "      <td>0</td>\n",
              "    </tr>\n",
              "    <tr>\n",
              "      <th>M_Prod_Tot</th>\n",
              "      <td>0</td>\n",
              "    </tr>\n",
              "  </tbody>\n",
              "</table>\n",
              "</div><br><label><b>dtype:</b> int64</label>"
            ]
          },
          "metadata": {},
          "execution_count": 122
        }
      ]
    },
    {
      "cell_type": "code",
      "source": [
        "district_crop_yield.columns"
      ],
      "metadata": {
        "id": "t1UteeGvExiu",
        "colab": {
          "base_uri": "https://localhost:8080/"
        },
        "outputId": "8210496d-4ac3-41d9-fc64-ad9abdd42610"
      },
      "execution_count": 123,
      "outputs": [
        {
          "output_type": "execute_result",
          "data": {
            "text/plain": [
              "Index(['OBJECTID', 'NAME', 'POP', 'Area', 'S_Yield_Ha', 'M_Yield_Ha',\n",
              "       'Crop_Area_Ha', 'S_Area_Ha', 'M_Area_Ha', 'S_Prod_Tot', 'M_Prod_Tot'],\n",
              "      dtype='object')"
            ]
          },
          "metadata": {},
          "execution_count": 123
        }
      ]
    },
    {
      "cell_type": "code",
      "source": [
        "district_crop_yield['NAME'].unique()"
      ],
      "metadata": {
        "id": "c3ke1KbgJHzR",
        "colab": {
          "base_uri": "https://localhost:8080/"
        },
        "outputId": "fbb18a7e-4afe-4901-9442-d01ca29778ff"
      },
      "execution_count": 124,
      "outputs": [
        {
          "output_type": "execute_result",
          "data": {
            "text/plain": [
              "array(['ABIM', 'AMUDAT', 'KAABONG', 'KOTIDO', 'MOROTO', 'NAKAPIRIPIRIT',\n",
              "       'NAPAK'], dtype=object)"
            ]
          },
          "metadata": {},
          "execution_count": 124
        }
      ]
    },
    {
      "cell_type": "code",
      "source": [
        "subcounty_crop_yield = pd.read_csv('/content/Uganda_Karamoja_Subcounty_Crop_Yield_Population.csv')\n",
        "subcounty_crop_yield.head()"
      ],
      "metadata": {
        "id": "vEwm5lZ-Eg-F",
        "colab": {
          "base_uri": "https://localhost:8080/",
          "height": 243
        },
        "outputId": "5088ad0d-1233-46ad-f02b-0a19db35d284"
      },
      "execution_count": 125,
      "outputs": [
        {
          "output_type": "execute_result",
          "data": {
            "text/plain": [
              "   OBJECTID       SUBCOUNTY_NAME DISTRICT_NAME    POP        Area Karamoja  \\\n",
              "0       263              KACHERI        KOTIDO  17244  1067176155        Y   \n",
              "1       264               KOTIDO        KOTIDO  52771   597575188        Y   \n",
              "2       265  KOTIDO TOWN COUNCIL        KOTIDO  27389    23972401        Y   \n",
              "3       266         NAKAPERIMORU        KOTIDO  38775   419111591        Y   \n",
              "4       267           PANYANGARA        KOTIDO  65704   880955930        Y   \n",
              "\n",
              "   S_Yield_Ha   M_Yield_Ha  Crop_Area_Ha     S_Area_Ha   M_Area_Ha  \\\n",
              "0  354.207411  1137.467019   7023.533691   6434.342449  528.124229   \n",
              "1  367.890523  1162.996687  13587.990760  12455.592640  824.767081   \n",
              "2  369.314177  1167.005832   1656.531855   1520.322052    8.561644   \n",
              "3  283.324569   852.366578   7087.823334   6761.488901   45.721712   \n",
              "4  373.836926  1283.859882  10398.249390  10111.198130  172.611914   \n",
              "\n",
              "     S_Prod_Tot     M_Prod_Tot  \n",
              "0  2.279092e+06  600723.892900  \n",
              "1  4.582294e+06  959201.382500  \n",
              "2  5.614765e+05    9991.488268  \n",
              "3  1.915696e+06   38971.659080  \n",
              "4  3.779939e+06  221609.511400  "
            ],
            "text/html": [
              "\n",
              "  <div id=\"df-0abfd31b-79d1-4c8d-9cf8-ec3548aceaee\" class=\"colab-df-container\">\n",
              "    <div>\n",
              "<style scoped>\n",
              "    .dataframe tbody tr th:only-of-type {\n",
              "        vertical-align: middle;\n",
              "    }\n",
              "\n",
              "    .dataframe tbody tr th {\n",
              "        vertical-align: top;\n",
              "    }\n",
              "\n",
              "    .dataframe thead th {\n",
              "        text-align: right;\n",
              "    }\n",
              "</style>\n",
              "<table border=\"1\" class=\"dataframe\">\n",
              "  <thead>\n",
              "    <tr style=\"text-align: right;\">\n",
              "      <th></th>\n",
              "      <th>OBJECTID</th>\n",
              "      <th>SUBCOUNTY_NAME</th>\n",
              "      <th>DISTRICT_NAME</th>\n",
              "      <th>POP</th>\n",
              "      <th>Area</th>\n",
              "      <th>Karamoja</th>\n",
              "      <th>S_Yield_Ha</th>\n",
              "      <th>M_Yield_Ha</th>\n",
              "      <th>Crop_Area_Ha</th>\n",
              "      <th>S_Area_Ha</th>\n",
              "      <th>M_Area_Ha</th>\n",
              "      <th>S_Prod_Tot</th>\n",
              "      <th>M_Prod_Tot</th>\n",
              "    </tr>\n",
              "  </thead>\n",
              "  <tbody>\n",
              "    <tr>\n",
              "      <th>0</th>\n",
              "      <td>263</td>\n",
              "      <td>KACHERI</td>\n",
              "      <td>KOTIDO</td>\n",
              "      <td>17244</td>\n",
              "      <td>1067176155</td>\n",
              "      <td>Y</td>\n",
              "      <td>354.207411</td>\n",
              "      <td>1137.467019</td>\n",
              "      <td>7023.533691</td>\n",
              "      <td>6434.342449</td>\n",
              "      <td>528.124229</td>\n",
              "      <td>2.279092e+06</td>\n",
              "      <td>600723.892900</td>\n",
              "    </tr>\n",
              "    <tr>\n",
              "      <th>1</th>\n",
              "      <td>264</td>\n",
              "      <td>KOTIDO</td>\n",
              "      <td>KOTIDO</td>\n",
              "      <td>52771</td>\n",
              "      <td>597575188</td>\n",
              "      <td>Y</td>\n",
              "      <td>367.890523</td>\n",
              "      <td>1162.996687</td>\n",
              "      <td>13587.990760</td>\n",
              "      <td>12455.592640</td>\n",
              "      <td>824.767081</td>\n",
              "      <td>4.582294e+06</td>\n",
              "      <td>959201.382500</td>\n",
              "    </tr>\n",
              "    <tr>\n",
              "      <th>2</th>\n",
              "      <td>265</td>\n",
              "      <td>KOTIDO TOWN COUNCIL</td>\n",
              "      <td>KOTIDO</td>\n",
              "      <td>27389</td>\n",
              "      <td>23972401</td>\n",
              "      <td>Y</td>\n",
              "      <td>369.314177</td>\n",
              "      <td>1167.005832</td>\n",
              "      <td>1656.531855</td>\n",
              "      <td>1520.322052</td>\n",
              "      <td>8.561644</td>\n",
              "      <td>5.614765e+05</td>\n",
              "      <td>9991.488268</td>\n",
              "    </tr>\n",
              "    <tr>\n",
              "      <th>3</th>\n",
              "      <td>266</td>\n",
              "      <td>NAKAPERIMORU</td>\n",
              "      <td>KOTIDO</td>\n",
              "      <td>38775</td>\n",
              "      <td>419111591</td>\n",
              "      <td>Y</td>\n",
              "      <td>283.324569</td>\n",
              "      <td>852.366578</td>\n",
              "      <td>7087.823334</td>\n",
              "      <td>6761.488901</td>\n",
              "      <td>45.721712</td>\n",
              "      <td>1.915696e+06</td>\n",
              "      <td>38971.659080</td>\n",
              "    </tr>\n",
              "    <tr>\n",
              "      <th>4</th>\n",
              "      <td>267</td>\n",
              "      <td>PANYANGARA</td>\n",
              "      <td>KOTIDO</td>\n",
              "      <td>65704</td>\n",
              "      <td>880955930</td>\n",
              "      <td>Y</td>\n",
              "      <td>373.836926</td>\n",
              "      <td>1283.859882</td>\n",
              "      <td>10398.249390</td>\n",
              "      <td>10111.198130</td>\n",
              "      <td>172.611914</td>\n",
              "      <td>3.779939e+06</td>\n",
              "      <td>221609.511400</td>\n",
              "    </tr>\n",
              "  </tbody>\n",
              "</table>\n",
              "</div>\n",
              "    <div class=\"colab-df-buttons\">\n",
              "\n",
              "  <div class=\"colab-df-container\">\n",
              "    <button class=\"colab-df-convert\" onclick=\"convertToInteractive('df-0abfd31b-79d1-4c8d-9cf8-ec3548aceaee')\"\n",
              "            title=\"Convert this dataframe to an interactive table.\"\n",
              "            style=\"display:none;\">\n",
              "\n",
              "  <svg xmlns=\"http://www.w3.org/2000/svg\" height=\"24px\" viewBox=\"0 -960 960 960\">\n",
              "    <path d=\"M120-120v-720h720v720H120Zm60-500h600v-160H180v160Zm220 220h160v-160H400v160Zm0 220h160v-160H400v160ZM180-400h160v-160H180v160Zm440 0h160v-160H620v160ZM180-180h160v-160H180v160Zm440 0h160v-160H620v160Z\"/>\n",
              "  </svg>\n",
              "    </button>\n",
              "\n",
              "  <style>\n",
              "    .colab-df-container {\n",
              "      display:flex;\n",
              "      gap: 12px;\n",
              "    }\n",
              "\n",
              "    .colab-df-convert {\n",
              "      background-color: #E8F0FE;\n",
              "      border: none;\n",
              "      border-radius: 50%;\n",
              "      cursor: pointer;\n",
              "      display: none;\n",
              "      fill: #1967D2;\n",
              "      height: 32px;\n",
              "      padding: 0 0 0 0;\n",
              "      width: 32px;\n",
              "    }\n",
              "\n",
              "    .colab-df-convert:hover {\n",
              "      background-color: #E2EBFA;\n",
              "      box-shadow: 0px 1px 2px rgba(60, 64, 67, 0.3), 0px 1px 3px 1px rgba(60, 64, 67, 0.15);\n",
              "      fill: #174EA6;\n",
              "    }\n",
              "\n",
              "    .colab-df-buttons div {\n",
              "      margin-bottom: 4px;\n",
              "    }\n",
              "\n",
              "    [theme=dark] .colab-df-convert {\n",
              "      background-color: #3B4455;\n",
              "      fill: #D2E3FC;\n",
              "    }\n",
              "\n",
              "    [theme=dark] .colab-df-convert:hover {\n",
              "      background-color: #434B5C;\n",
              "      box-shadow: 0px 1px 3px 1px rgba(0, 0, 0, 0.15);\n",
              "      filter: drop-shadow(0px 1px 2px rgba(0, 0, 0, 0.3));\n",
              "      fill: #FFFFFF;\n",
              "    }\n",
              "  </style>\n",
              "\n",
              "    <script>\n",
              "      const buttonEl =\n",
              "        document.querySelector('#df-0abfd31b-79d1-4c8d-9cf8-ec3548aceaee button.colab-df-convert');\n",
              "      buttonEl.style.display =\n",
              "        google.colab.kernel.accessAllowed ? 'block' : 'none';\n",
              "\n",
              "      async function convertToInteractive(key) {\n",
              "        const element = document.querySelector('#df-0abfd31b-79d1-4c8d-9cf8-ec3548aceaee');\n",
              "        const dataTable =\n",
              "          await google.colab.kernel.invokeFunction('convertToInteractive',\n",
              "                                                    [key], {});\n",
              "        if (!dataTable) return;\n",
              "\n",
              "        const docLinkHtml = 'Like what you see? Visit the ' +\n",
              "          '<a target=\"_blank\" href=https://colab.research.google.com/notebooks/data_table.ipynb>data table notebook</a>'\n",
              "          + ' to learn more about interactive tables.';\n",
              "        element.innerHTML = '';\n",
              "        dataTable['output_type'] = 'display_data';\n",
              "        await google.colab.output.renderOutput(dataTable, element);\n",
              "        const docLink = document.createElement('div');\n",
              "        docLink.innerHTML = docLinkHtml;\n",
              "        element.appendChild(docLink);\n",
              "      }\n",
              "    </script>\n",
              "  </div>\n",
              "\n",
              "\n",
              "    <div id=\"df-6820cdf6-c6db-45c2-a10a-5ddf3d5daa0c\">\n",
              "      <button class=\"colab-df-quickchart\" onclick=\"quickchart('df-6820cdf6-c6db-45c2-a10a-5ddf3d5daa0c')\"\n",
              "                title=\"Suggest charts\"\n",
              "                style=\"display:none;\">\n",
              "\n",
              "<svg xmlns=\"http://www.w3.org/2000/svg\" height=\"24px\"viewBox=\"0 0 24 24\"\n",
              "     width=\"24px\">\n",
              "    <g>\n",
              "        <path d=\"M19 3H5c-1.1 0-2 .9-2 2v14c0 1.1.9 2 2 2h14c1.1 0 2-.9 2-2V5c0-1.1-.9-2-2-2zM9 17H7v-7h2v7zm4 0h-2V7h2v10zm4 0h-2v-4h2v4z\"/>\n",
              "    </g>\n",
              "</svg>\n",
              "      </button>\n",
              "\n",
              "<style>\n",
              "  .colab-df-quickchart {\n",
              "      --bg-color: #E8F0FE;\n",
              "      --fill-color: #1967D2;\n",
              "      --hover-bg-color: #E2EBFA;\n",
              "      --hover-fill-color: #174EA6;\n",
              "      --disabled-fill-color: #AAA;\n",
              "      --disabled-bg-color: #DDD;\n",
              "  }\n",
              "\n",
              "  [theme=dark] .colab-df-quickchart {\n",
              "      --bg-color: #3B4455;\n",
              "      --fill-color: #D2E3FC;\n",
              "      --hover-bg-color: #434B5C;\n",
              "      --hover-fill-color: #FFFFFF;\n",
              "      --disabled-bg-color: #3B4455;\n",
              "      --disabled-fill-color: #666;\n",
              "  }\n",
              "\n",
              "  .colab-df-quickchart {\n",
              "    background-color: var(--bg-color);\n",
              "    border: none;\n",
              "    border-radius: 50%;\n",
              "    cursor: pointer;\n",
              "    display: none;\n",
              "    fill: var(--fill-color);\n",
              "    height: 32px;\n",
              "    padding: 0;\n",
              "    width: 32px;\n",
              "  }\n",
              "\n",
              "  .colab-df-quickchart:hover {\n",
              "    background-color: var(--hover-bg-color);\n",
              "    box-shadow: 0 1px 2px rgba(60, 64, 67, 0.3), 0 1px 3px 1px rgba(60, 64, 67, 0.15);\n",
              "    fill: var(--button-hover-fill-color);\n",
              "  }\n",
              "\n",
              "  .colab-df-quickchart-complete:disabled,\n",
              "  .colab-df-quickchart-complete:disabled:hover {\n",
              "    background-color: var(--disabled-bg-color);\n",
              "    fill: var(--disabled-fill-color);\n",
              "    box-shadow: none;\n",
              "  }\n",
              "\n",
              "  .colab-df-spinner {\n",
              "    border: 2px solid var(--fill-color);\n",
              "    border-color: transparent;\n",
              "    border-bottom-color: var(--fill-color);\n",
              "    animation:\n",
              "      spin 1s steps(1) infinite;\n",
              "  }\n",
              "\n",
              "  @keyframes spin {\n",
              "    0% {\n",
              "      border-color: transparent;\n",
              "      border-bottom-color: var(--fill-color);\n",
              "      border-left-color: var(--fill-color);\n",
              "    }\n",
              "    20% {\n",
              "      border-color: transparent;\n",
              "      border-left-color: var(--fill-color);\n",
              "      border-top-color: var(--fill-color);\n",
              "    }\n",
              "    30% {\n",
              "      border-color: transparent;\n",
              "      border-left-color: var(--fill-color);\n",
              "      border-top-color: var(--fill-color);\n",
              "      border-right-color: var(--fill-color);\n",
              "    }\n",
              "    40% {\n",
              "      border-color: transparent;\n",
              "      border-right-color: var(--fill-color);\n",
              "      border-top-color: var(--fill-color);\n",
              "    }\n",
              "    60% {\n",
              "      border-color: transparent;\n",
              "      border-right-color: var(--fill-color);\n",
              "    }\n",
              "    80% {\n",
              "      border-color: transparent;\n",
              "      border-right-color: var(--fill-color);\n",
              "      border-bottom-color: var(--fill-color);\n",
              "    }\n",
              "    90% {\n",
              "      border-color: transparent;\n",
              "      border-bottom-color: var(--fill-color);\n",
              "    }\n",
              "  }\n",
              "</style>\n",
              "\n",
              "      <script>\n",
              "        async function quickchart(key) {\n",
              "          const quickchartButtonEl =\n",
              "            document.querySelector('#' + key + ' button');\n",
              "          quickchartButtonEl.disabled = true;  // To prevent multiple clicks.\n",
              "          quickchartButtonEl.classList.add('colab-df-spinner');\n",
              "          try {\n",
              "            const charts = await google.colab.kernel.invokeFunction(\n",
              "                'suggestCharts', [key], {});\n",
              "          } catch (error) {\n",
              "            console.error('Error during call to suggestCharts:', error);\n",
              "          }\n",
              "          quickchartButtonEl.classList.remove('colab-df-spinner');\n",
              "          quickchartButtonEl.classList.add('colab-df-quickchart-complete');\n",
              "        }\n",
              "        (() => {\n",
              "          let quickchartButtonEl =\n",
              "            document.querySelector('#df-6820cdf6-c6db-45c2-a10a-5ddf3d5daa0c button');\n",
              "          quickchartButtonEl.style.display =\n",
              "            google.colab.kernel.accessAllowed ? 'block' : 'none';\n",
              "        })();\n",
              "      </script>\n",
              "    </div>\n",
              "\n",
              "    </div>\n",
              "  </div>\n"
            ],
            "application/vnd.google.colaboratory.intrinsic+json": {
              "type": "dataframe",
              "variable_name": "subcounty_crop_yield",
              "summary": "{\n  \"name\": \"subcounty_crop_yield\",\n  \"rows\": 52,\n  \"fields\": [\n    {\n      \"column\": \"OBJECTID\",\n      \"properties\": {\n        \"dtype\": \"number\",\n        \"std\": 280,\n        \"min\": 263,\n        \"max\": 1320,\n        \"num_unique_values\": 52,\n        \"samples\": [\n          604,\n          1023,\n          1029\n        ],\n        \"semantic_type\": \"\",\n        \"description\": \"\"\n      }\n    },\n    {\n      \"column\": \"SUBCOUNTY_NAME\",\n      \"properties\": {\n        \"dtype\": \"string\",\n        \"num_unique_values\": 52,\n        \"samples\": [\n          \"SIDOK\",\n          \"IRIIRI\",\n          \"NGOLERIET\"\n        ],\n        \"semantic_type\": \"\",\n        \"description\": \"\"\n      }\n    },\n    {\n      \"column\": \"DISTRICT_NAME\",\n      \"properties\": {\n        \"dtype\": \"category\",\n        \"num_unique_values\": 7,\n        \"samples\": [\n          \"KOTIDO\",\n          \"KAABONG\",\n          \"NAKAPIRIPIRIT\"\n        ],\n        \"semantic_type\": \"\",\n        \"description\": \"\"\n      }\n    },\n    {\n      \"column\": \"POP\",\n      \"properties\": {\n        \"dtype\": \"number\",\n        \"std\": 20865,\n        \"min\": 1418,\n        \"max\": 100919,\n        \"num_unique_values\": 52,\n        \"samples\": [\n          24092,\n          46979,\n          20790\n        ],\n        \"semantic_type\": \"\",\n        \"description\": \"\"\n      }\n    },\n    {\n      \"column\": \"Area\",\n      \"properties\": {\n        \"dtype\": \"number\",\n        \"std\": 491330849,\n        \"min\": 2121209,\n        \"max\": 2069554899,\n        \"num_unique_values\": 52,\n        \"samples\": [\n          125330583,\n          1030623258,\n          158887552\n        ],\n        \"semantic_type\": \"\",\n        \"description\": \"\"\n      }\n    },\n    {\n      \"column\": \"Karamoja\",\n      \"properties\": {\n        \"dtype\": \"category\",\n        \"num_unique_values\": 1,\n        \"samples\": [\n          \"Y\"\n        ],\n        \"semantic_type\": \"\",\n        \"description\": \"\"\n      }\n    },\n    {\n      \"column\": \"S_Yield_Ha\",\n      \"properties\": {\n        \"dtype\": \"number\",\n        \"std\": 118.56990673395282,\n        \"min\": 108.1564114,\n        \"max\": 560.3130703,\n        \"num_unique_values\": 52,\n        \"samples\": [\n          285.3362943\n        ],\n        \"semantic_type\": \"\",\n        \"description\": \"\"\n      }\n    },\n    {\n      \"column\": \"M_Yield_Ha\",\n      \"properties\": {\n        \"dtype\": \"number\",\n        \"std\": 321.6419012308184,\n        \"min\": 0.0,\n        \"max\": 1396.991494,\n        \"num_unique_values\": 52,\n        \"samples\": [\n          1396.991494\n        ],\n        \"semantic_type\": \"\",\n        \"description\": \"\"\n      }\n    },\n    {\n      \"column\": \"Crop_Area_Ha\",\n      \"properties\": {\n        \"dtype\": \"number\",\n        \"std\": 3110.505916547499,\n        \"min\": 0.171390461,\n        \"max\": 13587.99076,\n        \"num_unique_values\": 52,\n        \"samples\": [\n          957.4939458\n        ],\n        \"semantic_type\": \"\",\n        \"description\": \"\"\n      }\n    },\n    {\n      \"column\": \"S_Area_Ha\",\n      \"properties\": {\n        \"dtype\": \"number\",\n        \"std\": 2954.3558576323685,\n        \"min\": 0.130940756,\n        \"max\": 12964.49973,\n        \"num_unique_values\": 52,\n        \"samples\": [\n          859.6490275\n        ],\n        \"semantic_type\": \"\",\n        \"description\": \"\"\n      }\n    },\n    {\n      \"column\": \"M_Area_Ha\",\n      \"properties\": {\n        \"dtype\": \"number\",\n        \"std\": 724.0922880324313,\n        \"min\": 0.0,\n        \"max\": 3840.698081,\n        \"num_unique_values\": 52,\n        \"samples\": [\n          97.5422428\n        ],\n        \"semantic_type\": \"\",\n        \"description\": \"\"\n      }\n    },\n    {\n      \"column\": \"S_Prod_Tot\",\n      \"properties\": {\n        \"dtype\": \"number\",\n        \"std\": 991583.938327316,\n        \"min\": 17.28125956,\n        \"max\": 4582294.492,\n        \"num_unique_values\": 52,\n        \"samples\": [\n          245289.0679\n        ],\n        \"semantic_type\": \"\",\n        \"description\": \"\"\n      }\n    },\n    {\n      \"column\": \"M_Prod_Tot\",\n      \"properties\": {\n        \"dtype\": \"number\",\n        \"std\": 793970.6681566153,\n        \"min\": 0.0,\n        \"max\": 4365057.517,\n        \"num_unique_values\": 52,\n        \"samples\": [\n          136265.6835\n        ],\n        \"semantic_type\": \"\",\n        \"description\": \"\"\n      }\n    }\n  ]\n}"
            }
          },
          "metadata": {},
          "execution_count": 125
        }
      ]
    },
    {
      "cell_type": "code",
      "source": [
        "subcounty_crop_yield['DISTRICT_NAME'].unique()"
      ],
      "metadata": {
        "id": "WrAsqCZOJWo3",
        "outputId": "2c582cb8-af05-40c7-f408-08a3c9fc0b86",
        "colab": {
          "base_uri": "https://localhost:8080/"
        }
      },
      "execution_count": 126,
      "outputs": [
        {
          "output_type": "execute_result",
          "data": {
            "text/plain": [
              "array(['KOTIDO', 'KAABONG', 'ABIM', 'AMUDAT', 'MOROTO', 'NAKAPIRIPIRIT',\n",
              "       'NAPAK'], dtype=object)"
            ]
          },
          "metadata": {},
          "execution_count": 126
        }
      ]
    },
    {
      "cell_type": "code",
      "source": [
        "# summary information for the data set\n",
        "subcounty_crop_yield.info()"
      ],
      "metadata": {
        "id": "qdimpQZeHYCv",
        "colab": {
          "base_uri": "https://localhost:8080/"
        },
        "outputId": "17ed1e58-b73c-4fc3-f3bb-2925bb152708"
      },
      "execution_count": 127,
      "outputs": [
        {
          "output_type": "stream",
          "name": "stdout",
          "text": [
            "<class 'pandas.core.frame.DataFrame'>\n",
            "RangeIndex: 52 entries, 0 to 51\n",
            "Data columns (total 13 columns):\n",
            " #   Column          Non-Null Count  Dtype  \n",
            "---  ------          --------------  -----  \n",
            " 0   OBJECTID        52 non-null     int64  \n",
            " 1   SUBCOUNTY_NAME  52 non-null     object \n",
            " 2   DISTRICT_NAME   52 non-null     object \n",
            " 3   POP             52 non-null     int64  \n",
            " 4   Area            52 non-null     int64  \n",
            " 5   Karamoja        52 non-null     object \n",
            " 6   S_Yield_Ha      52 non-null     float64\n",
            " 7   M_Yield_Ha      52 non-null     float64\n",
            " 8   Crop_Area_Ha    52 non-null     float64\n",
            " 9   S_Area_Ha       52 non-null     float64\n",
            " 10  M_Area_Ha       52 non-null     float64\n",
            " 11  S_Prod_Tot      52 non-null     float64\n",
            " 12  M_Prod_Tot      52 non-null     float64\n",
            "dtypes: float64(7), int64(3), object(3)\n",
            "memory usage: 5.4+ KB\n"
          ]
        }
      ]
    },
    {
      "cell_type": "code",
      "source": [
        "# Checking for null values\n",
        "subcounty_crop_yield.isna().sum()"
      ],
      "metadata": {
        "id": "HdshDMA9C_XN",
        "outputId": "217dfc3b-30b8-4189-ee3b-72e17b8feae2",
        "colab": {
          "base_uri": "https://localhost:8080/",
          "height": 491
        }
      },
      "execution_count": 128,
      "outputs": [
        {
          "output_type": "execute_result",
          "data": {
            "text/plain": [
              "OBJECTID          0\n",
              "SUBCOUNTY_NAME    0\n",
              "DISTRICT_NAME     0\n",
              "POP               0\n",
              "Area              0\n",
              "Karamoja          0\n",
              "S_Yield_Ha        0\n",
              "M_Yield_Ha        0\n",
              "Crop_Area_Ha      0\n",
              "S_Area_Ha         0\n",
              "M_Area_Ha         0\n",
              "S_Prod_Tot        0\n",
              "M_Prod_Tot        0\n",
              "dtype: int64"
            ],
            "text/html": [
              "<div>\n",
              "<style scoped>\n",
              "    .dataframe tbody tr th:only-of-type {\n",
              "        vertical-align: middle;\n",
              "    }\n",
              "\n",
              "    .dataframe tbody tr th {\n",
              "        vertical-align: top;\n",
              "    }\n",
              "\n",
              "    .dataframe thead th {\n",
              "        text-align: right;\n",
              "    }\n",
              "</style>\n",
              "<table border=\"1\" class=\"dataframe\">\n",
              "  <thead>\n",
              "    <tr style=\"text-align: right;\">\n",
              "      <th></th>\n",
              "      <th>0</th>\n",
              "    </tr>\n",
              "  </thead>\n",
              "  <tbody>\n",
              "    <tr>\n",
              "      <th>OBJECTID</th>\n",
              "      <td>0</td>\n",
              "    </tr>\n",
              "    <tr>\n",
              "      <th>SUBCOUNTY_NAME</th>\n",
              "      <td>0</td>\n",
              "    </tr>\n",
              "    <tr>\n",
              "      <th>DISTRICT_NAME</th>\n",
              "      <td>0</td>\n",
              "    </tr>\n",
              "    <tr>\n",
              "      <th>POP</th>\n",
              "      <td>0</td>\n",
              "    </tr>\n",
              "    <tr>\n",
              "      <th>Area</th>\n",
              "      <td>0</td>\n",
              "    </tr>\n",
              "    <tr>\n",
              "      <th>Karamoja</th>\n",
              "      <td>0</td>\n",
              "    </tr>\n",
              "    <tr>\n",
              "      <th>S_Yield_Ha</th>\n",
              "      <td>0</td>\n",
              "    </tr>\n",
              "    <tr>\n",
              "      <th>M_Yield_Ha</th>\n",
              "      <td>0</td>\n",
              "    </tr>\n",
              "    <tr>\n",
              "      <th>Crop_Area_Ha</th>\n",
              "      <td>0</td>\n",
              "    </tr>\n",
              "    <tr>\n",
              "      <th>S_Area_Ha</th>\n",
              "      <td>0</td>\n",
              "    </tr>\n",
              "    <tr>\n",
              "      <th>M_Area_Ha</th>\n",
              "      <td>0</td>\n",
              "    </tr>\n",
              "    <tr>\n",
              "      <th>S_Prod_Tot</th>\n",
              "      <td>0</td>\n",
              "    </tr>\n",
              "    <tr>\n",
              "      <th>M_Prod_Tot</th>\n",
              "      <td>0</td>\n",
              "    </tr>\n",
              "  </tbody>\n",
              "</table>\n",
              "</div><br><label><b>dtype:</b> int64</label>"
            ]
          },
          "metadata": {},
          "execution_count": 128
        }
      ]
    },
    {
      "cell_type": "code",
      "source": [
        "# Renaming the district columns under a common name to enable data blending\n",
        "district_crop_yield = district_crop_yield.rename(columns={'NAME':'DISTRICT_NAME'})\n",
        "print(district_crop_yield)"
      ],
      "metadata": {
        "id": "2lRMyLOwHT_y",
        "colab": {
          "base_uri": "https://localhost:8080/"
        },
        "outputId": "5581768d-8677-435d-9279-34bc444013df"
      },
      "execution_count": 129,
      "outputs": [
        {
          "output_type": "stream",
          "name": "stdout",
          "text": [
            "   OBJECTID  DISTRICT_NAME     POP        Area  S_Yield_Ha  M_Yield_Ha  \\\n",
            "0        92           ABIM   90385  2771977106         449        1040   \n",
            "1        96         AMUDAT  101790  1643582836         205        1297   \n",
            "2        20        KAABONG  627057  7373606003         279         945   \n",
            "3        85         KOTIDO  243157  3641539808         331        1148   \n",
            "4         5         MOROTO  127811  3570160948         128         355   \n",
            "5        54  NAKAPIRIPIRIT  146780  4216323900         356        1264   \n",
            "6        80          NAPAK  167625  4508782023         137         854   \n",
            "\n",
            "   Crop_Area_Ha     S_Area_Ha    M_Area_Ha  S_Prod_Tot  M_Prod_Tot  \n",
            "0   5470.068394   3277.295971  1848.621855     1471506     1922567  \n",
            "1   5765.443719   2973.423860  2733.661014      609552     3545558  \n",
            "2  28121.672530  20544.194960  7394.416334     5731830     6987723  \n",
            "3  53032.649450  50247.443900  1751.372284    16631904     2010575  \n",
            "4   5954.814048   4741.748776  1190.050606      606944      422468  \n",
            "5  26372.698490  19237.333210  6425.788414     6848491     8122197  \n",
            "6  22944.296020  16142.015880  6543.719066     2211456     5588336  \n"
          ]
        }
      ]
    },
    {
      "cell_type": "code",
      "source": [
        "district_crop_yield.to_csv('District_crop_yield.csv')"
      ],
      "metadata": {
        "id": "LyruAZZ5Mts9"
      },
      "execution_count": 130,
      "outputs": []
    },
    {
      "cell_type": "code",
      "source": [
        "# average sorghum yield per district\n",
        "mean_S_Yield_dist = district_crop_yield['S_Yield_Ha'].mean()\n",
        "mean_S_Yield_dist"
      ],
      "metadata": {
        "id": "_hEneYAtSzJt",
        "colab": {
          "base_uri": "https://localhost:8080/"
        },
        "outputId": "acb83219-c02e-4649-fb2f-ecf61e107f14"
      },
      "execution_count": 131,
      "outputs": [
        {
          "output_type": "execute_result",
          "data": {
            "text/plain": [
              "np.float64(269.2857142857143)"
            ]
          },
          "metadata": {},
          "execution_count": 131
        }
      ]
    },
    {
      "cell_type": "code",
      "source": [
        "#average maize yield per district\n",
        "mean_M_Yield_dist = district_crop_yield['M_Yield_Ha'].mean()\n",
        "mean_M_Yield_dist"
      ],
      "metadata": {
        "colab": {
          "base_uri": "https://localhost:8080/"
        },
        "id": "UxYGKOZcSzkM",
        "outputId": "c7d4923c-a7bb-4825-d9c0-cbb8f7f25e7a"
      },
      "execution_count": 132,
      "outputs": [
        {
          "output_type": "execute_result",
          "data": {
            "text/plain": [
              "np.float64(986.1428571428571)"
            ]
          },
          "metadata": {},
          "execution_count": 132
        }
      ]
    },
    {
      "cell_type": "code",
      "source": [
        "# Create a bar chart to compare mean maize and sorghum yields for district yield\n",
        "labels = ['Mean Sorghum Yield', 'Mean Maize Yield']\n",
        "means = [mean_S_Yield_dist, mean_M_Yield_dist]\n",
        "\n",
        "plt.bar(labels, means, color=['skyblue', 'lightgreen'])\n",
        "plt.ylabel('Yield (Kg/Ha)')\n",
        "plt.title('Comparison of Mean Sorghum and Maize Yields Across Districts')\n",
        "plt.show()"
      ],
      "metadata": {
        "colab": {
          "base_uri": "https://localhost:8080/",
          "height": 452
        },
        "id": "1w1MxLtvS7US",
        "outputId": "ab4fe574-ac55-41fa-ace3-517bf21c8ec3"
      },
      "execution_count": 133,
      "outputs": [
        {
          "output_type": "display_data",
          "data": {
            "text/plain": [
              "<Figure size 640x480 with 1 Axes>"
            ],
            "image/png": "[encoded data removed]"
          },
          "metadata": {}
        }
      ]
    },
    {
      "cell_type": "markdown",
      "source": [
        "# **QUESTION**:DOES *A HIGHER POPULATION LEAD TO A HIGHER CROP YIELD IN AN AREA*\n",
        "the below strings of code help us find the solution to this question.\n",
        "\n",
        "We are going to work on comparing the mean total district yields to the mean total population in order to come up with a sound conclusion.\n",
        "\n",
        "\n",
        "\n",
        "\n"
      ],
      "metadata": {
        "id": "cxBhifnMUkWt"
      }
    },
    {
      "cell_type": "code",
      "source": [
        "#mean district population\n",
        "mean_dist_population = district_crop_yield['POP'].mean()\n",
        "mean_dist_population"
      ],
      "metadata": {
        "id": "wqgDN6iMTDQR",
        "colab": {
          "base_uri": "https://localhost:8080/"
        },
        "outputId": "e99dca08-e44b-41ee-df11-b6179c9ca61b"
      },
      "execution_count": 134,
      "outputs": [
        {
          "output_type": "execute_result",
          "data": {
            "text/plain": [
              "np.float64(214943.57142857142)"
            ]
          },
          "metadata": {},
          "execution_count": 134
        }
      ]
    },
    {
      "cell_type": "code",
      "source": [
        "#total yields\n",
        "district_crop_yield['total_yields'] = district_crop_yield['S_Yield_Ha'] + district_crop_yield['M_Yield_Ha']\n",
        "district_crop_yield['total_yields']"
      ],
      "metadata": {
        "colab": {
          "base_uri": "https://localhost:8080/",
          "height": 303
        },
        "id": "HByUVE4rggWy",
        "outputId": "a4458287-0faf-456a-9948-f3ce7f726d5d"
      },
      "execution_count": 135,
      "outputs": [
        {
          "output_type": "execute_result",
          "data": {
            "text/plain": [
              "0    1489\n",
              "1    1502\n",
              "2    1224\n",
              "3    1479\n",
              "4     483\n",
              "5    1620\n",
              "6     991\n",
              "Name: total_yields, dtype: int64"
            ],
            "text/html": [
              "<div>\n",
              "<style scoped>\n",
              "    .dataframe tbody tr th:only-of-type {\n",
              "        vertical-align: middle;\n",
              "    }\n",
              "\n",
              "    .dataframe tbody tr th {\n",
              "        vertical-align: top;\n",
              "    }\n",
              "\n",
              "    .dataframe thead th {\n",
              "        text-align: right;\n",
              "    }\n",
              "</style>\n",
              "<table border=\"1\" class=\"dataframe\">\n",
              "  <thead>\n",
              "    <tr style=\"text-align: right;\">\n",
              "      <th></th>\n",
              "      <th>total_yields</th>\n",
              "    </tr>\n",
              "  </thead>\n",
              "  <tbody>\n",
              "    <tr>\n",
              "      <th>0</th>\n",
              "      <td>1489</td>\n",
              "    </tr>\n",
              "    <tr>\n",
              "      <th>1</th>\n",
              "      <td>1502</td>\n",
              "    </tr>\n",
              "    <tr>\n",
              "      <th>2</th>\n",
              "      <td>1224</td>\n",
              "    </tr>\n",
              "    <tr>\n",
              "      <th>3</th>\n",
              "      <td>1479</td>\n",
              "    </tr>\n",
              "    <tr>\n",
              "      <th>4</th>\n",
              "      <td>483</td>\n",
              "    </tr>\n",
              "    <tr>\n",
              "      <th>5</th>\n",
              "      <td>1620</td>\n",
              "    </tr>\n",
              "    <tr>\n",
              "      <th>6</th>\n",
              "      <td>991</td>\n",
              "    </tr>\n",
              "  </tbody>\n",
              "</table>\n",
              "</div><br><label><b>dtype:</b> int64</label>"
            ]
          },
          "metadata": {},
          "execution_count": 135
        }
      ]
    },
    {
      "cell_type": "code",
      "source": [
        "#mean total crop yields\n",
        "district_crop_yield['total_yields'] = district_crop_yield['S_Yield_Ha'] + district_crop_yield['M_Yield_Ha']\n",
        "district_crop_yield['total_yields'].mean()"
      ],
      "metadata": {
        "colab": {
          "base_uri": "https://localhost:8080/"
        },
        "id": "vXQtWynERipE",
        "outputId": "821898bd-3f48-48d2-c2a3-a6b150008a2e"
      },
      "execution_count": 136,
      "outputs": [
        {
          "output_type": "execute_result",
          "data": {
            "text/plain": [
              "np.float64(1255.4285714285713)"
            ]
          },
          "metadata": {},
          "execution_count": 136
        }
      ]
    },
    {
      "cell_type": "code",
      "source": [
        "#bar graph comparing the mean total yield against the mean population\n",
        "fig, ax1 = plt.subplots(figsize=(5, 5))\n",
        "\n",
        "labels = ['Mean Total Yield', 'Mean Population']\n",
        "means_yield = [district_crop_yield['total_yields'].mean()]\n",
        "means_pop = [mean_dist_population]\n",
        "\n",
        "\n",
        "# Bar chart for mean total yield on the left y-axis\n",
        "rects1 = ax1.bar(labels[0], means_yield, color='grey', width=0.4)\n",
        "ax1.set_ylabel('Yield (Kg/Ha)')\n",
        "ax1.set_title('Comparison of Mean Total Yield and Mean Population')\n",
        "ax1.tick_params(axis='y')\n",
        "\n",
        "\n",
        "# Create a second y-axis for mean population\n",
        "ax2 = ax1.twinx()\n",
        "rects2 = ax2.bar(labels[1], means_pop, color='salmon', width=0.4)\n",
        "ax2.set_ylabel('Population')\n",
        "ax2.tick_params(axis='y')\n",
        "\n",
        "fig.tight_layout()\n",
        "plt.show()"
      ],
      "metadata": {
        "colab": {
          "base_uri": "https://localhost:8080/",
          "height": 507
        },
        "id": "6nZsvLvSTNr_",
        "outputId": "cc99bca1-229a-4ff1-f04c-8b544b7ca78c"
      },
      "execution_count": 137,
      "outputs": [
        {
          "output_type": "display_data",
          "data": {
            "text/plain": [
              "<Figure size 500x500 with 2 Axes>"
            ],
            "image/png": "[encoded data removed]"
          },
          "metadata": {}
        }
      ]
    },
    {
      "cell_type": "code",
      "source": [
        "corr_pop_v_totalyields=np.corrcoef(district_crop_yield['POP'],district_crop_yield['total_yields'],)\n",
        "corr_pop_v_totalyields[0,1]"
      ],
      "metadata": {
        "colab": {
          "base_uri": "https://localhost:8080/"
        },
        "id": "L2f0fLi3hEqI",
        "outputId": "442b9c99-c2c9-45b5-f797-6c7eb7496bdb"
      },
      "execution_count": 138,
      "outputs": [
        {
          "output_type": "execute_result",
          "data": {
            "text/plain": [
              "np.float64(-0.01910193423287373)"
            ]
          },
          "metadata": {},
          "execution_count": 138
        }
      ]
    },
    {
      "cell_type": "code",
      "source": [
        "#scatter plot showing the correlation of population density against total yields\n",
        "label='dist population vs total yields'\n",
        "plt.scatter(district_crop_yield['POP'],district_crop_yield['total_yields'],color='black', label=label)\n",
        "plt.xlabel('Population')\n",
        "plt.ylabel('Total Yields')\n",
        "plt.title('Population vs Total Yields')\n",
        "plt.legend()\n",
        "plt.show()"
      ],
      "metadata": {
        "colab": {
          "base_uri": "https://localhost:8080/",
          "height": 472
        },
        "id": "Cs1Ga-6QeSNw",
        "outputId": "bd1c1b89-b805-4c2c-f79a-ebb41a1e5bee"
      },
      "execution_count": 139,
      "outputs": [
        {
          "output_type": "display_data",
          "data": {
            "text/plain": [
              "<Figure size 640x480 with 1 Axes>"
            ],
            "image/png": "[encoded data removed]"
          },
          "metadata": {}
        }
      ]
    },
    {
      "cell_type": "markdown",
      "source": [
        "## **CONCLUSION**\n",
        "A higher population concentration in an area does not, in fact, lead to a higher count of crop yields in said area, even though they may seem highly related when using a bar graph.\n",
        "\n",
        "\n",
        "\n",
        "\n",
        "\n",
        "\n"
      ],
      "metadata": {
        "id": "d3fgYwIBTwFM"
      }
    },
    {
      "cell_type": "markdown",
      "source": [
        "# HOW DOES THE AMOUNT OF LAND ALLOCATED TO CROP GROWTH IMPACT INTEGRAL QUANTITY OF CROP YIELDS IN THE DISTRICTS.\n",
        "Here we will come up with three visualisations comparing:\n",
        "\n",
        "\n",
        "* maize yields against maize area per hectares\n",
        "* sougham yields against sougham area per hectares\n",
        "* total yields against total crop area per hectares\n",
        "\n",
        "\n",
        "\n",
        "\n"
      ],
      "metadata": {
        "id": "thodWBZ9VZV6"
      }
    },
    {
      "cell_type": "code",
      "source": [
        "#mean of sougham area per hectare district-wise\n",
        "mean_sougham_area= district_crop_yield['S_Area_Ha'].mean()\n",
        "mean_sougham_area"
      ],
      "metadata": {
        "colab": {
          "base_uri": "https://localhost:8080/"
        },
        "id": "2GclRfx1be8Q",
        "outputId": "ff98b579-b817-4d82-ab08-ff9bd956aa3d"
      },
      "execution_count": 140,
      "outputs": [
        {
          "output_type": "execute_result",
          "data": {
            "text/plain": [
              "np.float64(16737.636651)"
            ]
          },
          "metadata": {},
          "execution_count": 140
        }
      ]
    },
    {
      "cell_type": "code",
      "source": [
        "#mean of maize area per hectare district-wise\n",
        "mean_maizearea = district_crop_yield['M_Area_Ha'].mean()\n",
        "mean_maizearea"
      ],
      "metadata": {
        "colab": {
          "base_uri": "https://localhost:8080/"
        },
        "id": "Zuh_rlVXbKcB",
        "outputId": "8a5d6e00-b6cf-4256-f890-9651741d9c33"
      },
      "execution_count": 141,
      "outputs": [
        {
          "output_type": "execute_result",
          "data": {
            "text/plain": [
              "np.float64(3983.9470818571426)"
            ]
          },
          "metadata": {},
          "execution_count": 141
        }
      ]
    },
    {
      "cell_type": "code",
      "source": [
        "#finding the total crop area\n",
        "district_crop_yield['total_crop_area']=district_crop_yield['S_Area_Ha']+district_crop_yield['M_Area_Ha']\n",
        "total_dist_cropyield = district_crop_yield['total_crop_area']\n",
        "total_dist_cropyield"
      ],
      "metadata": {
        "colab": {
          "base_uri": "https://localhost:8080/",
          "height": 303
        },
        "id": "MQbFaI9xa_q3",
        "outputId": "bee2cd9e-b064-4bd0-a7aa-79a377a2a607"
      },
      "execution_count": 142,
      "outputs": [
        {
          "output_type": "execute_result",
          "data": {
            "text/plain": [
              "0     5125.917826\n",
              "1     5707.084874\n",
              "2    27938.611294\n",
              "3    51998.816184\n",
              "4     5931.799382\n",
              "5    25663.121624\n",
              "6    22685.734946\n",
              "Name: total_crop_area, dtype: float64"
            ],
            "text/html": [
              "<div>\n",
              "<style scoped>\n",
              "    .dataframe tbody tr th:only-of-type {\n",
              "        vertical-align: middle;\n",
              "    }\n",
              "\n",
              "    .dataframe tbody tr th {\n",
              "        vertical-align: top;\n",
              "    }\n",
              "\n",
              "    .dataframe thead th {\n",
              "        text-align: right;\n",
              "    }\n",
              "</style>\n",
              "<table border=\"1\" class=\"dataframe\">\n",
              "  <thead>\n",
              "    <tr style=\"text-align: right;\">\n",
              "      <th></th>\n",
              "      <th>total_crop_area</th>\n",
              "    </tr>\n",
              "  </thead>\n",
              "  <tbody>\n",
              "    <tr>\n",
              "      <th>0</th>\n",
              "      <td>5125.917826</td>\n",
              "    </tr>\n",
              "    <tr>\n",
              "      <th>1</th>\n",
              "      <td>5707.084874</td>\n",
              "    </tr>\n",
              "    <tr>\n",
              "      <th>2</th>\n",
              "      <td>27938.611294</td>\n",
              "    </tr>\n",
              "    <tr>\n",
              "      <th>3</th>\n",
              "      <td>51998.816184</td>\n",
              "    </tr>\n",
              "    <tr>\n",
              "      <th>4</th>\n",
              "      <td>5931.799382</td>\n",
              "    </tr>\n",
              "    <tr>\n",
              "      <th>5</th>\n",
              "      <td>25663.121624</td>\n",
              "    </tr>\n",
              "    <tr>\n",
              "      <th>6</th>\n",
              "      <td>22685.734946</td>\n",
              "    </tr>\n",
              "  </tbody>\n",
              "</table>\n",
              "</div><br><label><b>dtype:</b> float64</label>"
            ]
          },
          "metadata": {},
          "execution_count": 142
        }
      ]
    },
    {
      "cell_type": "code",
      "source": [
        "#mean of the total crop area\n",
        "mean_tca= district_crop_yield['total_crop_area'].mean()\n",
        "mean_tca"
      ],
      "metadata": {
        "colab": {
          "base_uri": "https://localhost:8080/"
        },
        "id": "WRJNOUKpjp3d",
        "outputId": "1eb0a9fd-cd94-4cae-8442-73896825b2a7"
      },
      "execution_count": 143,
      "outputs": [
        {
          "output_type": "execute_result",
          "data": {
            "text/plain": [
              "np.float64(20721.583732857143)"
            ]
          },
          "metadata": {},
          "execution_count": 143
        }
      ]
    },
    {
      "cell_type": "code",
      "source": [
        "fig, ax1 = plt.subplots(figsize=(8, 6))\n",
        "\n",
        "labels = ['Mean Sorghum Area', 'Mean Sorghum Yield']\n",
        "means_area = [mean_sougham_area]\n",
        "means_yield = [mean_S_Yield_dist]\n",
        "\n",
        "# Bar chart for mean sorghum area on the left y-axis\n",
        "rects1 = ax1.bar(labels[0], means_area, color='salmon', width=0.4)\n",
        "ax1.set_ylabel('Area (Ha)')\n",
        "ax1.set_title('Comparison of Mean Sorghum Area and Mean Sorghum Yield')\n",
        "ax1.tick_params(axis='y')\n",
        "\n",
        "# Create a second y-axis for mean sorghum yield\n",
        "ax2 = ax1.twinx()\n",
        "rects2 = ax2.bar(labels[1], means_yield, color='skyblue', width=0.4)\n",
        "ax2.set_ylabel('Yield (Kg/Ha)')\n",
        "ax2.tick_params(axis='y')\n",
        "\n",
        "fig.tight_layout()\n",
        "plt.show()"
      ],
      "metadata": {
        "colab": {
          "base_uri": "https://localhost:8080/",
          "height": 607
        },
        "id": "OUF9twtEk3zq",
        "outputId": "8608e9b0-2ff0-4e19-d200-575254b0941c"
      },
      "execution_count": 144,
      "outputs": [
        {
          "output_type": "display_data",
          "data": {
            "text/plain": [
              "<Figure size 800x600 with 2 Axes>"
            ],
            "image/png": "[encoded data removed]"
          },
          "metadata": {}
        }
      ]
    },
    {
      "cell_type": "code",
      "source": [
        "fig, ax1 = plt.subplots(figsize=(8, 6))\n",
        "\n",
        "labels = ['Mean Maize Area', 'Mean Maize Yield']\n",
        "means_area = [mean_maizearea]\n",
        "means_yield = [mean_M_Yield_dist]\n",
        "\n",
        "# Bar chart for mean maize area on the left y-axis\n",
        "rects1 = ax1.bar(labels[0], means_area, color='salmon', width=0.4)\n",
        "ax1.set_ylabel('Area (Ha)')\n",
        "ax1.set_title('Comparison of Mean Maize Area and Mean Maize Yield')\n",
        "ax1.tick_params(axis='y')\n",
        "\n",
        "# Create a second y-axis for mean maize yield\n",
        "ax2 = ax1.twinx()\n",
        "rects2 = ax2.bar(labels[1], means_yield, color='lightgreen', width=0.4)\n",
        "ax2.set_ylabel('Yield (Kg/Ha)')\n",
        "ax2.tick_params(axis='y')\n",
        "\n",
        "fig.tight_layout()\n",
        "plt.show()"
      ],
      "metadata": {
        "colab": {
          "base_uri": "https://localhost:8080/",
          "height": 607
        },
        "id": "ZempG3mAlHlg",
        "outputId": "bf929940-0474-4cfc-b979-5b2b0610dcb0"
      },
      "execution_count": 145,
      "outputs": [
        {
          "output_type": "display_data",
          "data": {
            "text/plain": [
              "<Figure size 800x600 with 2 Axes>"
            ],
            "image/png": "[encoded data removed]"
          },
          "metadata": {}
        }
      ]
    },
    {
      "cell_type": "code",
      "source": [
        "#correlation of total crop area against total crop yields\n",
        "corr_disttca_v_disttcy = np.corrcoef(district_crop_yield['total_crop_area'],district_crop_yield['total_yields'])\n",
        "corr_disttca_v_disttcy[0,1]"
      ],
      "metadata": {
        "colab": {
          "base_uri": "https://localhost:8080/"
        },
        "id": "EMuC7KYYlH9A",
        "outputId": "84c6b439-9252-408b-d90f-7f0bf9f34219"
      },
      "execution_count": 146,
      "outputs": [
        {
          "output_type": "execute_result",
          "data": {
            "text/plain": [
              "np.float64(0.2953194074238365)"
            ]
          },
          "metadata": {},
          "execution_count": 146
        }
      ]
    },
    {
      "cell_type": "code",
      "source": [
        "# Scatter plot\n",
        "plt.scatter(district_crop_yield['total_crop_area'], district_crop_yield['total_yields'], color='black', label='Total Crop Area vs Total Yields')\n",
        "\n",
        "\n",
        "plt.xlabel('Total Crop Area (Ha)')\n",
        "plt.ylabel('Total Yields (Kg/Ha)')\n",
        "plt.title('Total Crop Area vs Total Yields')\n",
        "plt.legend()\n",
        "plt.show()"
      ],
      "metadata": {
        "colab": {
          "base_uri": "https://localhost:8080/",
          "height": 472
        },
        "id": "l9XifVPVoIVg",
        "outputId": "a0c32a75-941d-45b8-9abf-61febdea58d4"
      },
      "execution_count": 147,
      "outputs": [
        {
          "output_type": "display_data",
          "data": {
            "text/plain": [
              "<Figure size 640x480 with 1 Axes>"
            ],
            "image/png": "[encoded data removed]"
          },
          "metadata": {}
        }
      ]
    },
    {
      "cell_type": "markdown",
      "source": [
        "# **CONCLUSION**:\n",
        "The amount of land allocated to crop growth does indeed affect the total crop yield of the districts, though not greatly, due to the possibility of underlying factors such as soil fertility and climate change in the districts."
      ],
      "metadata": {
        "id": "UT1Q8kcSphxY"
      }
    },
    {
      "cell_type": "code",
      "source": [
        "subcounty_crop_yield.head()"
      ],
      "metadata": {
        "colab": {
          "base_uri": "https://localhost:8080/",
          "height": 243
        },
        "id": "F5Og5g4iqXZR",
        "outputId": "1a7ae68d-9057-4795-f980-f8323274a8a1"
      },
      "execution_count": 148,
      "outputs": [
        {
          "output_type": "execute_result",
          "data": {
            "text/plain": [
              "   OBJECTID       SUBCOUNTY_NAME DISTRICT_NAME    POP        Area Karamoja  \\\n",
              "0       263              KACHERI        KOTIDO  17244  1067176155        Y   \n",
              "1       264               KOTIDO        KOTIDO  52771   597575188        Y   \n",
              "2       265  KOTIDO TOWN COUNCIL        KOTIDO  27389    23972401        Y   \n",
              "3       266         NAKAPERIMORU        KOTIDO  38775   419111591        Y   \n",
              "4       267           PANYANGARA        KOTIDO  65704   880955930        Y   \n",
              "\n",
              "   S_Yield_Ha   M_Yield_Ha  Crop_Area_Ha     S_Area_Ha   M_Area_Ha  \\\n",
              "0  354.207411  1137.467019   7023.533691   6434.342449  528.124229   \n",
              "1  367.890523  1162.996687  13587.990760  12455.592640  824.767081   \n",
              "2  369.314177  1167.005832   1656.531855   1520.322052    8.561644   \n",
              "3  283.324569   852.366578   7087.823334   6761.488901   45.721712   \n",
              "4  373.836926  1283.859882  10398.249390  10111.198130  172.611914   \n",
              "\n",
              "     S_Prod_Tot     M_Prod_Tot  \n",
              "0  2.279092e+06  600723.892900  \n",
              "1  4.582294e+06  959201.382500  \n",
              "2  5.614765e+05    9991.488268  \n",
              "3  1.915696e+06   38971.659080  \n",
              "4  3.779939e+06  221609.511400  "
            ],
            "text/html": [
              "\n",
              "  <div id=\"df-fad05536-bf5b-4402-8f1e-400076fce3ce\" class=\"colab-df-container\">\n",
              "    <div>\n",
              "<style scoped>\n",
              "    .dataframe tbody tr th:only-of-type {\n",
              "        vertical-align: middle;\n",
              "    }\n",
              "\n",
              "    .dataframe tbody tr th {\n",
              "        vertical-align: top;\n",
              "    }\n",
              "\n",
              "    .dataframe thead th {\n",
              "        text-align: right;\n",
              "    }\n",
              "</style>\n",
              "<table border=\"1\" class=\"dataframe\">\n",
              "  <thead>\n",
              "    <tr style=\"text-align: right;\">\n",
              "      <th></th>\n",
              "      <th>OBJECTID</th>\n",
              "      <th>SUBCOUNTY_NAME</th>\n",
              "      <th>DISTRICT_NAME</th>\n",
              "      <th>POP</th>\n",
              "      <th>Area</th>\n",
              "      <th>Karamoja</th>\n",
              "      <th>S_Yield_Ha</th>\n",
              "      <th>M_Yield_Ha</th>\n",
              "      <th>Crop_Area_Ha</th>\n",
              "      <th>S_Area_Ha</th>\n",
              "      <th>M_Area_Ha</th>\n",
              "      <th>S_Prod_Tot</th>\n",
              "      <th>M_Prod_Tot</th>\n",
              "    </tr>\n",
              "  </thead>\n",
              "  <tbody>\n",
              "    <tr>\n",
              "      <th>0</th>\n",
              "      <td>263</td>\n",
              "      <td>KACHERI</td>\n",
              "      <td>KOTIDO</td>\n",
              "      <td>17244</td>\n",
              "      <td>1067176155</td>\n",
              "      <td>Y</td>\n",
              "      <td>354.207411</td>\n",
              "      <td>1137.467019</td>\n",
              "      <td>7023.533691</td>\n",
              "      <td>6434.342449</td>\n",
              "      <td>528.124229</td>\n",
              "      <td>2.279092e+06</td>\n",
              "      <td>600723.892900</td>\n",
              "    </tr>\n",
              "    <tr>\n",
              "      <th>1</th>\n",
              "      <td>264</td>\n",
              "      <td>KOTIDO</td>\n",
              "      <td>KOTIDO</td>\n",
              "      <td>52771</td>\n",
              "      <td>597575188</td>\n",
              "      <td>Y</td>\n",
              "      <td>367.890523</td>\n",
              "      <td>1162.996687</td>\n",
              "      <td>13587.990760</td>\n",
              "      <td>12455.592640</td>\n",
              "      <td>824.767081</td>\n",
              "      <td>4.582294e+06</td>\n",
              "      <td>959201.382500</td>\n",
              "    </tr>\n",
              "    <tr>\n",
              "      <th>2</th>\n",
              "      <td>265</td>\n",
              "      <td>KOTIDO TOWN COUNCIL</td>\n",
              "      <td>KOTIDO</td>\n",
              "      <td>27389</td>\n",
              "      <td>23972401</td>\n",
              "      <td>Y</td>\n",
              "      <td>369.314177</td>\n",
              "      <td>1167.005832</td>\n",
              "      <td>1656.531855</td>\n",
              "      <td>1520.322052</td>\n",
              "      <td>8.561644</td>\n",
              "      <td>5.614765e+05</td>\n",
              "      <td>9991.488268</td>\n",
              "    </tr>\n",
              "    <tr>\n",
              "      <th>3</th>\n",
              "      <td>266</td>\n",
              "      <td>NAKAPERIMORU</td>\n",
              "      <td>KOTIDO</td>\n",
              "      <td>38775</td>\n",
              "      <td>419111591</td>\n",
              "      <td>Y</td>\n",
              "      <td>283.324569</td>\n",
              "      <td>852.366578</td>\n",
              "      <td>7087.823334</td>\n",
              "      <td>6761.488901</td>\n",
              "      <td>45.721712</td>\n",
              "      <td>1.915696e+06</td>\n",
              "      <td>38971.659080</td>\n",
              "    </tr>\n",
              "    <tr>\n",
              "      <th>4</th>\n",
              "      <td>267</td>\n",
              "      <td>PANYANGARA</td>\n",
              "      <td>KOTIDO</td>\n",
              "      <td>65704</td>\n",
              "      <td>880955930</td>\n",
              "      <td>Y</td>\n",
              "      <td>373.836926</td>\n",
              "      <td>1283.859882</td>\n",
              "      <td>10398.249390</td>\n",
              "      <td>10111.198130</td>\n",
              "      <td>172.611914</td>\n",
              "      <td>3.779939e+06</td>\n",
              "      <td>221609.511400</td>\n",
              "    </tr>\n",
              "  </tbody>\n",
              "</table>\n",
              "</div>\n",
              "    <div class=\"colab-df-buttons\">\n",
              "\n",
              "  <div class=\"colab-df-container\">\n",
              "    <button class=\"colab-df-convert\" onclick=\"convertToInteractive('df-fad05536-bf5b-4402-8f1e-400076fce3ce')\"\n",
              "            title=\"Convert this dataframe to an interactive table.\"\n",
              "            style=\"display:none;\">\n",
              "\n",
              "  <svg xmlns=\"http://www.w3.org/2000/svg\" height=\"24px\" viewBox=\"0 -960 960 960\">\n",
              "    <path d=\"M120-120v-720h720v720H120Zm60-500h600v-160H180v160Zm220 220h160v-160H400v160Zm0 220h160v-160H400v160ZM180-400h160v-160H180v160Zm440 0h160v-160H620v160ZM180-180h160v-160H180v160Zm440 0h160v-160H620v160Z\"/>\n",
              "  </svg>\n",
              "    </button>\n",
              "\n",
              "  <style>\n",
              "    .colab-df-container {\n",
              "      display:flex;\n",
              "      gap: 12px;\n",
              "    }\n",
              "\n",
              "    .colab-df-convert {\n",
              "      background-color: #E8F0FE;\n",
              "      border: none;\n",
              "      border-radius: 50%;\n",
              "      cursor: pointer;\n",
              "      display: none;\n",
              "      fill: #1967D2;\n",
              "      height: 32px;\n",
              "      padding: 0 0 0 0;\n",
              "      width: 32px;\n",
              "    }\n",
              "\n",
              "    .colab-df-convert:hover {\n",
              "      background-color: #E2EBFA;\n",
              "      box-shadow: 0px 1px 2px rgba(60, 64, 67, 0.3), 0px 1px 3px 1px rgba(60, 64, 67, 0.15);\n",
              "      fill: #174EA6;\n",
              "    }\n",
              "\n",
              "    .colab-df-buttons div {\n",
              "      margin-bottom: 4px;\n",
              "    }\n",
              "\n",
              "    [theme=dark] .colab-df-convert {\n",
              "      background-color: #3B4455;\n",
              "      fill: #D2E3FC;\n",
              "    }\n",
              "\n",
              "    [theme=dark] .colab-df-convert:hover {\n",
              "      background-color: #434B5C;\n",
              "      box-shadow: 0px 1px 3px 1px rgba(0, 0, 0, 0.15);\n",
              "      filter: drop-shadow(0px 1px 2px rgba(0, 0, 0, 0.3));\n",
              "      fill: #FFFFFF;\n",
              "    }\n",
              "  </style>\n",
              "\n",
              "    <script>\n",
              "      const buttonEl =\n",
              "        document.querySelector('#df-fad05536-bf5b-4402-8f1e-400076fce3ce button.colab-df-convert');\n",
              "      buttonEl.style.display =\n",
              "        google.colab.kernel.accessAllowed ? 'block' : 'none';\n",
              "\n",
              "      async function convertToInteractive(key) {\n",
              "        const element = document.querySelector('#df-fad05536-bf5b-4402-8f1e-400076fce3ce');\n",
              "        const dataTable =\n",
              "          await google.colab.kernel.invokeFunction('convertToInteractive',\n",
              "                                                    [key], {});\n",
              "        if (!dataTable) return;\n",
              "\n",
              "        const docLinkHtml = 'Like what you see? Visit the ' +\n",
              "          '<a target=\"_blank\" href=https://colab.research.google.com/notebooks/data_table.ipynb>data table notebook</a>'\n",
              "          + ' to learn more about interactive tables.';\n",
              "        element.innerHTML = '';\n",
              "        dataTable['output_type'] = 'display_data';\n",
              "        await google.colab.output.renderOutput(dataTable, element);\n",
              "        const docLink = document.createElement('div');\n",
              "        docLink.innerHTML = docLinkHtml;\n",
              "        element.appendChild(docLink);\n",
              "      }\n",
              "    </script>\n",
              "  </div>\n",
              "\n",
              "\n",
              "    <div id=\"df-d7478da9-8560-4238-a0e7-0ef5af7ba843\">\n",
              "      <button class=\"colab-df-quickchart\" onclick=\"quickchart('df-d7478da9-8560-4238-a0e7-0ef5af7ba843')\"\n",
              "                title=\"Suggest charts\"\n",
              "                style=\"display:none;\">\n",
              "\n",
              "<svg xmlns=\"http://www.w3.org/2000/svg\" height=\"24px\"viewBox=\"0 0 24 24\"\n",
              "     width=\"24px\">\n",
              "    <g>\n",
              "        <path d=\"M19 3H5c-1.1 0-2 .9-2 2v14c0 1.1.9 2 2 2h14c1.1 0 2-.9 2-2V5c0-1.1-.9-2-2-2zM9 17H7v-7h2v7zm4 0h-2V7h2v10zm4 0h-2v-4h2v4z\"/>\n",
              "    </g>\n",
              "</svg>\n",
              "      </button>\n",
              "\n",
              "<style>\n",
              "  .colab-df-quickchart {\n",
              "      --bg-color: #E8F0FE;\n",
              "      --fill-color: #1967D2;\n",
              "      --hover-bg-color: #E2EBFA;\n",
              "      --hover-fill-color: #174EA6;\n",
              "      --disabled-fill-color: #AAA;\n",
              "      --disabled-bg-color: #DDD;\n",
              "  }\n",
              "\n",
              "  [theme=dark] .colab-df-quickchart {\n",
              "      --bg-color: #3B4455;\n",
              "      --fill-color: #D2E3FC;\n",
              "      --hover-bg-color: #434B5C;\n",
              "      --hover-fill-color: #FFFFFF;\n",
              "      --disabled-bg-color: #3B4455;\n",
              "      --disabled-fill-color: #666;\n",
              "  }\n",
              "\n",
              "  .colab-df-quickchart {\n",
              "    background-color: var(--bg-color);\n",
              "    border: none;\n",
              "    border-radius: 50%;\n",
              "    cursor: pointer;\n",
              "    display: none;\n",
              "    fill: var(--fill-color);\n",
              "    height: 32px;\n",
              "    padding: 0;\n",
              "    width: 32px;\n",
              "  }\n",
              "\n",
              "  .colab-df-quickchart:hover {\n",
              "    background-color: var(--hover-bg-color);\n",
              "    box-shadow: 0 1px 2px rgba(60, 64, 67, 0.3), 0 1px 3px 1px rgba(60, 64, 67, 0.15);\n",
              "    fill: var(--button-hover-fill-color);\n",
              "  }\n",
              "\n",
              "  .colab-df-quickchart-complete:disabled,\n",
              "  .colab-df-quickchart-complete:disabled:hover {\n",
              "    background-color: var(--disabled-bg-color);\n",
              "    fill: var(--disabled-fill-color);\n",
              "    box-shadow: none;\n",
              "  }\n",
              "\n",
              "  .colab-df-spinner {\n",
              "    border: 2px solid var(--fill-color);\n",
              "    border-color: transparent;\n",
              "    border-bottom-color: var(--fill-color);\n",
              "    animation:\n",
              "      spin 1s steps(1) infinite;\n",
              "  }\n",
              "\n",
              "  @keyframes spin {\n",
              "    0% {\n",
              "      border-color: transparent;\n",
              "      border-bottom-color: var(--fill-color);\n",
              "      border-left-color: var(--fill-color);\n",
              "    }\n",
              "    20% {\n",
              "      border-color: transparent;\n",
              "      border-left-color: var(--fill-color);\n",
              "      border-top-color: var(--fill-color);\n",
              "    }\n",
              "    30% {\n",
              "      border-color: transparent;\n",
              "      border-left-color: var(--fill-color);\n",
              "      border-top-color: var(--fill-color);\n",
              "      border-right-color: var(--fill-color);\n",
              "    }\n",
              "    40% {\n",
              "      border-color: transparent;\n",
              "      border-right-color: var(--fill-color);\n",
              "      border-top-color: var(--fill-color);\n",
              "    }\n",
              "    60% {\n",
              "      border-color: transparent;\n",
              "      border-right-color: var(--fill-color);\n",
              "    }\n",
              "    80% {\n",
              "      border-color: transparent;\n",
              "      border-right-color: var(--fill-color);\n",
              "      border-bottom-color: var(--fill-color);\n",
              "    }\n",
              "    90% {\n",
              "      border-color: transparent;\n",
              "      border-bottom-color: var(--fill-color);\n",
              "    }\n",
              "  }\n",
              "</style>\n",
              "\n",
              "      <script>\n",
              "        async function quickchart(key) {\n",
              "          const quickchartButtonEl =\n",
              "            document.querySelector('#' + key + ' button');\n",
              "          quickchartButtonEl.disabled = true;  // To prevent multiple clicks.\n",
              "          quickchartButtonEl.classList.add('colab-df-spinner');\n",
              "          try {\n",
              "            const charts = await google.colab.kernel.invokeFunction(\n",
              "                'suggestCharts', [key], {});\n",
              "          } catch (error) {\n",
              "            console.error('Error during call to suggestCharts:', error);\n",
              "          }\n",
              "          quickchartButtonEl.classList.remove('colab-df-spinner');\n",
              "          quickchartButtonEl.classList.add('colab-df-quickchart-complete');\n",
              "        }\n",
              "        (() => {\n",
              "          let quickchartButtonEl =\n",
              "            document.querySelector('#df-d7478da9-8560-4238-a0e7-0ef5af7ba843 button');\n",
              "          quickchartButtonEl.style.display =\n",
              "            google.colab.kernel.accessAllowed ? 'block' : 'none';\n",
              "        })();\n",
              "      </script>\n",
              "    </div>\n",
              "\n",
              "    </div>\n",
              "  </div>\n"
            ],
            "application/vnd.google.colaboratory.intrinsic+json": {
              "type": "dataframe",
              "variable_name": "subcounty_crop_yield",
              "summary": "{\n  \"name\": \"subcounty_crop_yield\",\n  \"rows\": 52,\n  \"fields\": [\n    {\n      \"column\": \"OBJECTID\",\n      \"properties\": {\n        \"dtype\": \"number\",\n        \"std\": 280,\n        \"min\": 263,\n        \"max\": 1320,\n        \"num_unique_values\": 52,\n        \"samples\": [\n          604,\n          1023,\n          1029\n        ],\n        \"semantic_type\": \"\",\n        \"description\": \"\"\n      }\n    },\n    {\n      \"column\": \"SUBCOUNTY_NAME\",\n      \"properties\": {\n        \"dtype\": \"string\",\n        \"num_unique_values\": 52,\n        \"samples\": [\n          \"SIDOK\",\n          \"IRIIRI\",\n          \"NGOLERIET\"\n        ],\n        \"semantic_type\": \"\",\n        \"description\": \"\"\n      }\n    },\n    {\n      \"column\": \"DISTRICT_NAME\",\n      \"properties\": {\n        \"dtype\": \"category\",\n        \"num_unique_values\": 7,\n        \"samples\": [\n          \"KOTIDO\",\n          \"KAABONG\",\n          \"NAKAPIRIPIRIT\"\n        ],\n        \"semantic_type\": \"\",\n        \"description\": \"\"\n      }\n    },\n    {\n      \"column\": \"POP\",\n      \"properties\": {\n        \"dtype\": \"number\",\n        \"std\": 20865,\n        \"min\": 1418,\n        \"max\": 100919,\n        \"num_unique_values\": 52,\n        \"samples\": [\n          24092,\n          46979,\n          20790\n        ],\n        \"semantic_type\": \"\",\n        \"description\": \"\"\n      }\n    },\n    {\n      \"column\": \"Area\",\n      \"properties\": {\n        \"dtype\": \"number\",\n        \"std\": 491330849,\n        \"min\": 2121209,\n        \"max\": 2069554899,\n        \"num_unique_values\": 52,\n        \"samples\": [\n          125330583,\n          1030623258,\n          158887552\n        ],\n        \"semantic_type\": \"\",\n        \"description\": \"\"\n      }\n    },\n    {\n      \"column\": \"Karamoja\",\n      \"properties\": {\n        \"dtype\": \"category\",\n        \"num_unique_values\": 1,\n        \"samples\": [\n          \"Y\"\n        ],\n        \"semantic_type\": \"\",\n        \"description\": \"\"\n      }\n    },\n    {\n      \"column\": \"S_Yield_Ha\",\n      \"properties\": {\n        \"dtype\": \"number\",\n        \"std\": 118.56990673395282,\n        \"min\": 108.1564114,\n        \"max\": 560.3130703,\n        \"num_unique_values\": 52,\n        \"samples\": [\n          285.3362943\n        ],\n        \"semantic_type\": \"\",\n        \"description\": \"\"\n      }\n    },\n    {\n      \"column\": \"M_Yield_Ha\",\n      \"properties\": {\n        \"dtype\": \"number\",\n        \"std\": 321.6419012308184,\n        \"min\": 0.0,\n        \"max\": 1396.991494,\n        \"num_unique_values\": 52,\n        \"samples\": [\n          1396.991494\n        ],\n        \"semantic_type\": \"\",\n        \"description\": \"\"\n      }\n    },\n    {\n      \"column\": \"Crop_Area_Ha\",\n      \"properties\": {\n        \"dtype\": \"number\",\n        \"std\": 3110.505916547499,\n        \"min\": 0.171390461,\n        \"max\": 13587.99076,\n        \"num_unique_values\": 52,\n        \"samples\": [\n          957.4939458\n        ],\n        \"semantic_type\": \"\",\n        \"description\": \"\"\n      }\n    },\n    {\n      \"column\": \"S_Area_Ha\",\n      \"properties\": {\n        \"dtype\": \"number\",\n        \"std\": 2954.3558576323685,\n        \"min\": 0.130940756,\n        \"max\": 12964.49973,\n        \"num_unique_values\": 52,\n        \"samples\": [\n          859.6490275\n        ],\n        \"semantic_type\": \"\",\n        \"description\": \"\"\n      }\n    },\n    {\n      \"column\": \"M_Area_Ha\",\n      \"properties\": {\n        \"dtype\": \"number\",\n        \"std\": 724.0922880324313,\n        \"min\": 0.0,\n        \"max\": 3840.698081,\n        \"num_unique_values\": 52,\n        \"samples\": [\n          97.5422428\n        ],\n        \"semantic_type\": \"\",\n        \"description\": \"\"\n      }\n    },\n    {\n      \"column\": \"S_Prod_Tot\",\n      \"properties\": {\n        \"dtype\": \"number\",\n        \"std\": 991583.938327316,\n        \"min\": 17.28125956,\n        \"max\": 4582294.492,\n        \"num_unique_values\": 52,\n        \"samples\": [\n          245289.0679\n        ],\n        \"semantic_type\": \"\",\n        \"description\": \"\"\n      }\n    },\n    {\n      \"column\": \"M_Prod_Tot\",\n      \"properties\": {\n        \"dtype\": \"number\",\n        \"std\": 793970.6681566153,\n        \"min\": 0.0,\n        \"max\": 4365057.517,\n        \"num_unique_values\": 52,\n        \"samples\": [\n          136265.6835\n        ],\n        \"semantic_type\": \"\",\n        \"description\": \"\"\n      }\n    }\n  ]\n}"
            }
          },
          "metadata": {},
          "execution_count": 148
        }
      ]
    }
  ]
}